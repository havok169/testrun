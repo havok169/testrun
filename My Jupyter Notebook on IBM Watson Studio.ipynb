{
  "metadata": {
    "language_info": {
      "codemirror_mode": {
        "name": "python",
        "version": 3
      },
      "file_extension": ".py",
      "mimetype": "text/x-python",
      "name": "python",
      "nbconvert_exporter": "python",
      "pygments_lexer": "ipython3",
      "version": "3.8"
    },
    "kernelspec": {
      "name": "python",
      "display_name": "Pyolite",
      "language": "python"
    },
    "toc-showmarkdowntxt": false,
    "toc-autonumbering": false,
    "toc-showcode": false
  },
  "nbformat_minor": 4,
  "nbformat": 4,
  "cells": [
    {
      "cell_type": "markdown",
      "source": "# My Jupyter Notebook on IBM Watson Studio",
      "metadata": {}
    },
    {
      "cell_type": "markdown",
      "source": "<b> Leland Cahalane </b>",
      "metadata": {}
    },
    {
      "cell_type": "markdown",
      "source": "<i> Over the years I have done a good bit of data analysis in excel and I am interested in learning new tools.</i>",
      "metadata": {}
    },
    {
      "cell_type": "markdown",
      "source": "<h3> The code in the following cell is just some basic addition.<h3>",
      "metadata": {}
    },
    {
      "cell_type": "code",
      "source": "print (5+5)",
      "metadata": {
        "trusted": true
      },
      "execution_count": 5,
      "outputs": [
        {
          "name": "stdout",
          "text": "10\n",
          "output_type": "stream"
        }
      ]
    },
    {
      "cell_type": "markdown",
      "source": "|Lab Instructions|\n|----------------|\n<ol>\n<li> Create Notebook </li>\n<li> Edit Notebook </li>\n<li> Save Notebook </li>\n</ol>\n\nFor Notebook formating visit the following site.\n<a href=\"https://github.com/adam-p/markdown-here/wiki/Markdown-Cheatsheet\">Markdown Cheatsheet</a>",
      "metadata": {}
    }
  ]
}